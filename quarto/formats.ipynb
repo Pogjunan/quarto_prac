{
 "cells": [
  {
   "cell_type": "raw",
   "id": "29227ab3-02dc-4218-a431-0af821bb0028",
   "metadata": {
    "tags": []
   },
   "source": [
    "---\n",
    "title : \"Quarto Document_ tutorial\"\n",
    "author : \"Junhan\"\n",
    "format : pdf\n",
    "jupyter : python3\n",
    "---\n"
   ]
  },
  {
   "cell_type": "code",
   "execution_count": 2,
   "id": "181693fb-657c-46c7-85f4-328603b0f565",
   "metadata": {
    "tags": []
   },
   "outputs": [],
   "source": [
    "#raw1"
   ]
  },
  {
   "cell_type": "markdown",
   "id": "dc8dc1ea-23a7-419f-8083-e9ccf0cdd033",
   "metadata": {},
   "source": [
    "---\n",
    "title: \"Quarto Document_ tutorial\"\n",
    "author: \"Junhan\"\n",
    "format:\n",
    "  pdf:\n",
    "    toc: true\n",
    "    number-sections: true\n",
    "jupyter : python3\n",
    "---\n"
   ]
  },
  {
   "cell_type": "code",
   "execution_count": 1,
   "id": "9ee583a2-0096-49ca-a978-69327e398b50",
   "metadata": {},
   "outputs": [],
   "source": [
    "# pdf 의 default output format 을 설정한다."
   ]
  },
  {
   "cell_type": "markdown",
   "id": "594f9116-0aa0-4523-af8e-8bcb77cdb349",
   "metadata": {},
   "source": [
    "    - Multiple Fromats"
   ]
  },
  {
   "cell_type": "code",
   "execution_count": 3,
   "id": "eb2a612f-729a-4878-bd73-bbb70631a9b8",
   "metadata": {
    "tags": []
   },
   "outputs": [],
   "source": [
    "#raw2"
   ]
  },
  {
   "cell_type": "markdown",
   "id": "12df5a09-f7df-4d71-9406-999104b53e39",
   "metadata": {
    "tags": []
   },
   "source": [
    "---\n",
    "title: \"Quarto Documnet_tutorial\"\n",
    "author: \"Junhan\"\n",
    "toc : true\n",
    "number-sections : true\n",
    "highlight-style : pygments\n",
    "format:\n",
    "  html:\n",
    "    code-fold: true\n",
    "    html-math-method: katex\n",
    "  pdf:\n",
    "    geometry:\n",
    "      - top=30mm\n",
    "      - left=20mm\n",
    "  docx: default\n",
    "jupyter: python3\n",
    "    \n",
    "---\n",
    "# toc 은 table of contents 로 목차를 의미"
   ]
  },
  {
   "cell_type": "markdown",
   "id": "23fa426b-2dbb-4323-8a30-20debae3cd2a",
   "metadata": {},
   "source": [
    "`-` katex 를 math text 로 사용한다는 의미\n",
    ">\n",
    "`-` docx : default 는  Quarto에서 문서를 \"Microsoft Word\" 형식인 \"docx\"로 출력하는 의미"
   ]
  },
  {
   "cell_type": "markdown",
   "id": "842e6479-667c-4f28-9158-62e37afb9cbb",
   "metadata": {},
   "source": [
    "## Colors\n",
    "\n",
    "- Red\n",
    "- Green\n",
    "- Blue"
   ]
  },
  {
   "cell_type": "markdown",
   "id": "a47bb342-ef94-48fc-a028-d9bcd392f85b",
   "metadata": {},
   "source": [
    "## Shapes\n",
    "\n",
    "- Square\n",
    "- Circle\n",
    "- Triangle"
   ]
  },
  {
   "cell_type": "markdown",
   "id": "cfa832dd-587c-4a7f-a6d0-5be5388bc6f4",
   "metadata": {},
   "source": [
    "## Textures\n",
    "\n",
    "- Smooth\n",
    "- Bumpy\n",
    "- Fuzzy"
   ]
  },
  {
   "cell_type": "code",
   "execution_count": null,
   "id": "1072f58c-a621-407e-9461-239e5e09cfe6",
   "metadata": {},
   "outputs": [],
   "source": []
  }
 ],
 "metadata": {
  "kernelspec": {
   "display_name": "Python (hf)",
   "language": "python",
   "name": "hf"
  },
  "language_info": {
   "codemirror_mode": {
    "name": "ipython",
    "version": 3
   },
   "file_extension": ".py",
   "mimetype": "text/x-python",
   "name": "python",
   "nbconvert_exporter": "python",
   "pygments_lexer": "ipython3",
   "version": "3.10.13"
  }
 },
 "nbformat": 4,
 "nbformat_minor": 5
}
